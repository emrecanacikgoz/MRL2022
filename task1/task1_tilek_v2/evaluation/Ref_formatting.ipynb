{
 "cells": [
  {
   "cell_type": "code",
   "execution_count": 1,
   "id": "e4bb4c29-ef3a-4130-8559-2de6ef7b078b",
   "metadata": {},
   "outputs": [
    {
     "data": {
      "text/plain": [
       "['eng.dev', 'fra.dev', 'rus.dev', 'deu.dev', 'heb.dev', 'tur.dev']"
      ]
     },
     "execution_count": 1,
     "metadata": {},
     "output_type": "execute_result"
    }
   ],
   "source": [
    "import os\n",
    "\n",
    "ref_dir = \"/pscratch/sd/c/chubakov/code/morphology/evaluation/ref/\"\n",
    "files = os.listdir(ref_dir)\n",
    "files"
   ]
  },
  {
   "cell_type": "code",
   "execution_count": 13,
   "id": "c18ffa22-2070-47a4-9811-a6f67f8b4fbe",
   "metadata": {},
   "outputs": [],
   "source": [
    "import pandas as pd\n",
    "\n",
    "for file in files:\n",
    "    if file.find(\".dev\") >= 0:\n",
    "        df = pd.read_csv(os.path.join(ref_dir, file), header=None, sep='\\t')\n",
    "        df = df[2]\n",
    "        \n",
    "        df.to_csv(os.path.join(ref_dir, file), index=False, header=None)"
   ]
  },
  {
   "cell_type": "code",
   "execution_count": null,
   "id": "19871a38-a982-4819-b3ad-bfd86ab9d950",
   "metadata": {},
   "outputs": [],
   "source": []
  }
 ],
 "metadata": {
  "kernelspec": {
   "display_name": "NERSC Python",
   "language": "python",
   "name": "python3"
  },
  "language_info": {
   "codemirror_mode": {
    "name": "ipython",
    "version": 3
   },
   "file_extension": ".py",
   "mimetype": "text/x-python",
   "name": "python",
   "nbconvert_exporter": "python",
   "pygments_lexer": "ipython3",
   "version": "3.9.7"
  }
 },
 "nbformat": 4,
 "nbformat_minor": 5
}
